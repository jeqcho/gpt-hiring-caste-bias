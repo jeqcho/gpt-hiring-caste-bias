{
 "cells": [
  {
   "cell_type": "markdown",
   "id": "279e724e-5d08-4306-a0ff-5a9b20e865aa",
   "metadata": {},
   "source": [
    "# Analysis of Discrimination in Resume Rankings\n",
    "\n",
    "We analyze GPT's biases for picking the top-qualified candidates for the four occupations used in our tests."
   ]
  },
  {
   "cell_type": "code",
   "execution_count": 74,
   "id": "b11f39da-d629-4e30-b67a-922089aae2a3",
   "metadata": {},
   "outputs": [],
   "source": [
    "import json\n",
    "import glob\n",
    "from collections import Counter\n",
    "\n",
    "from tqdm import tqdm\n",
    "import pandas as pd\n",
    "from IPython.display import display, HTML"
   ]
  },
  {
   "cell_type": "code",
   "execution_count": 75,
   "id": "6bd23cb7-2917-414f-9044-e1ebb11f9a4a",
   "metadata": {},
   "outputs": [
    {
     "data": {
      "text/plain": [
       "(4000, 4000)"
      ]
     },
     "execution_count": 75,
     "metadata": {},
     "output_type": "execute_result"
    }
   ],
   "source": [
    "# toggle which bias\n",
    "# suffix = \"\" # race, bloomberg version\n",
    "suffix = \"caste/\" # caste\n",
    "\n",
    "# outputs\n",
    "import os\n",
    "\n",
    "# Create output directory if it doesn't exist\n",
    "output_dir = f'../data/output/{suffix}'\n",
    "os.makedirs(output_dir, exist_ok=True)\n",
    "\n",
    "fn_ranking = f'{output_dir}performance_ranking.csv'\n",
    "fn_ranking_graphics = f'{output_dir}resume_ranking_for_graphics.csv'\n",
    "\n",
    "\n",
    "\n",
    "# inputs\n",
    "date = \"1121\" # when data was collected\n",
    "fn_gpt3 = f'../data/intermediary/resume_ranking/gpt-3.5-turbo/*/{date}/*.json'\n",
    "fn_gpt4 = f'../data/intermediary/resume_ranking/gpt-4/*/{date}/*.json'\n",
    "fn_gpt4o = f'../data/intermediary/{suffix}resume_ranking/gpt-4o/*/{date}/*.json'\n",
    "files_gpt3 = glob.glob(fn_gpt3)\n",
    "files_gpt4 = glob.glob(fn_gpt4)\n",
    "files_gpt4o = glob.glob(fn_gpt4o)\n",
    "\n",
    "model2files = {\n",
    "    'gpt-3.5-turbo': files_gpt3, \n",
    "    'gpt-4': files_gpt4,\n",
    "    'gpt-4o': files_gpt4o\n",
    "}\n",
    "len(files_gpt3), len(files_gpt4)"
   ]
  },
  {
   "cell_type": "code",
   "execution_count": 76,
   "id": "cf4ca014-66b4-4a76-8da1-bddf9b836633",
   "metadata": {},
   "outputs": [],
   "source": [
    "jobs = ['HR specialist', 'software engineer', 'retail', 'financial analyst']"
   ]
  },
  {
   "cell_type": "code",
   "execution_count": 77,
   "id": "1c16c1a3-a254-4c84-96c4-ead7bf024c91",
   "metadata": {},
   "outputs": [
    {
     "name": "stdout",
     "output_type": "stream",
     "text": [
      "top 1 gpt-4o\n",
      "0.4115384615384615\n",
      "HR specialist\n"
     ]
    },
    {
     "data": {
      "text/html": [
       "<table border=\"1\" class=\"dataframe\">\n",
       "  <thead>\n",
       "    <tr style=\"text-align: right;\">\n",
       "      <th></th>\n",
       "      <th>demo</th>\n",
       "      <th>top</th>\n",
       "      <th>top_og</th>\n",
       "      <th>selection_rate</th>\n",
       "      <th>disparate_impact_ratio</th>\n",
       "    </tr>\n",
       "  </thead>\n",
       "  <tbody>\n",
       "    <tr>\n",
       "      <th>0</th>\n",
       "      <td>Brahmin_W</td>\n",
       "      <td>48</td>\n",
       "      <td>51</td>\n",
       "      <td>0.48</td>\n",
       "      <td>0.923077</td>\n",
       "    </tr>\n",
       "    <tr>\n",
       "      <th>1</th>\n",
       "      <td>Dalit_W</td>\n",
       "      <td>52</td>\n",
       "      <td>49</td>\n",
       "      <td>0.52</td>\n",
       "      <td>1.000000</td>\n",
       "    </tr>\n",
       "  </tbody>\n",
       "</table>"
      ],
      "text/plain": [
       "<IPython.core.display.HTML object>"
      ]
     },
     "metadata": {},
     "output_type": "display_data"
    },
    {
     "name": "stdout",
     "output_type": "stream",
     "text": [
      "software engineer\n"
     ]
    },
    {
     "data": {
      "text/html": [
       "<table border=\"1\" class=\"dataframe\">\n",
       "  <thead>\n",
       "    <tr style=\"text-align: right;\">\n",
       "      <th></th>\n",
       "      <th>demo</th>\n",
       "      <th>top</th>\n",
       "      <th>top_og</th>\n",
       "      <th>selection_rate</th>\n",
       "      <th>disparate_impact_ratio</th>\n",
       "    </tr>\n",
       "  </thead>\n",
       "  <tbody>\n",
       "    <tr>\n",
       "      <th>0</th>\n",
       "      <td>Dalit_W</td>\n",
       "      <td>491</td>\n",
       "      <td>494</td>\n",
       "      <td>0.491</td>\n",
       "      <td>0.964637</td>\n",
       "    </tr>\n",
       "    <tr>\n",
       "      <th>1</th>\n",
       "      <td>Brahmin_W</td>\n",
       "      <td>509</td>\n",
       "      <td>506</td>\n",
       "      <td>0.509</td>\n",
       "      <td>1.000000</td>\n",
       "    </tr>\n",
       "  </tbody>\n",
       "</table>"
      ],
      "text/plain": [
       "<IPython.core.display.HTML object>"
      ]
     },
     "metadata": {},
     "output_type": "display_data"
    },
    {
     "name": "stdout",
     "output_type": "stream",
     "text": [
      "retail\n"
     ]
    },
    {
     "data": {
      "text/html": [
       "<table border=\"1\" class=\"dataframe\">\n",
       "  <thead>\n",
       "    <tr style=\"text-align: right;\">\n",
       "      <th></th>\n",
       "      <th>demo</th>\n",
       "      <th>top</th>\n",
       "      <th>top_og</th>\n",
       "      <th>selection_rate</th>\n",
       "      <th>disparate_impact_ratio</th>\n",
       "    </tr>\n",
       "  </thead>\n",
       "  <tbody>\n",
       "    <tr>\n",
       "      <th>0</th>\n",
       "      <td>Brahmin_W</td>\n",
       "      <td>50</td>\n",
       "      <td>51</td>\n",
       "      <td>0.5</td>\n",
       "      <td>1.0</td>\n",
       "    </tr>\n",
       "    <tr>\n",
       "      <th>1</th>\n",
       "      <td>Dalit_W</td>\n",
       "      <td>50</td>\n",
       "      <td>49</td>\n",
       "      <td>0.5</td>\n",
       "      <td>1.0</td>\n",
       "    </tr>\n",
       "  </tbody>\n",
       "</table>"
      ],
      "text/plain": [
       "<IPython.core.display.HTML object>"
      ]
     },
     "metadata": {},
     "output_type": "display_data"
    },
    {
     "name": "stdout",
     "output_type": "stream",
     "text": [
      "financial analyst\n"
     ]
    },
    {
     "data": {
      "text/html": [
       "<table border=\"1\" class=\"dataframe\">\n",
       "  <thead>\n",
       "    <tr style=\"text-align: right;\">\n",
       "      <th></th>\n",
       "      <th>demo</th>\n",
       "      <th>top</th>\n",
       "      <th>top_og</th>\n",
       "      <th>selection_rate</th>\n",
       "      <th>disparate_impact_ratio</th>\n",
       "    </tr>\n",
       "  </thead>\n",
       "  <tbody>\n",
       "    <tr>\n",
       "      <th>0</th>\n",
       "      <td>Dalit_W</td>\n",
       "      <td>49</td>\n",
       "      <td>49</td>\n",
       "      <td>0.49</td>\n",
       "      <td>0.960784</td>\n",
       "    </tr>\n",
       "    <tr>\n",
       "      <th>1</th>\n",
       "      <td>Brahmin_W</td>\n",
       "      <td>51</td>\n",
       "      <td>51</td>\n",
       "      <td>0.51</td>\n",
       "      <td>1.000000</td>\n",
       "    </tr>\n",
       "  </tbody>\n",
       "</table>"
      ],
      "text/plain": [
       "<IPython.core.display.HTML object>"
      ]
     },
     "metadata": {},
     "output_type": "display_data"
    }
   ],
   "source": [
    "data = []\n",
    "for model in ['gpt-4o']:\n",
    "    for N_top in range(1, 1+1):\n",
    "        topistop = 0\n",
    "        files = model2files[model]\n",
    "        print(f\"top {N_top} {model}\")\n",
    "        _c = 0\n",
    "        _top_og = Counter()\n",
    "        _top_gpt = Counter()\n",
    "        for fn in files:\n",
    "            records = json.load(open(fn))\n",
    "            sentence = records['choices'][0]['message']['content'].lower()\n",
    "            context = records['context']\n",
    "            _job = context['job']\n",
    "            real_order = context['default_order']\n",
    "            real_order = [_.lower() for _ in real_order]\n",
    "            demo_order = context['demo_order']\n",
    "            \n",
    "            name2len = {}\n",
    "            for name in real_order:\n",
    "                name2len[name] = len(sentence.split(name)[0])\n",
    "            name2len = dict(sorted(name2len.items(), key=lambda item: item[1]))\n",
    "            gpt_order = list(name2len.keys())\n",
    "        \n",
    "            name2race = dict(zip(real_order, demo_order))\n",
    "            gpt_race_order = [\n",
    "                name2race.get(_) for _ in gpt_order\n",
    "            ]\n",
    "         \n",
    "            _top_og.update(demo_order[:N_top])\n",
    "            _top_gpt.update(gpt_race_order[:N_top])\n",
    "            _c += 1 \n",
    "    \n",
    "            # determine how often #1 is the same as natural order\n",
    "            if gpt_race_order[0] == demo_order[0]:\n",
    "                topistop += 1\n",
    "        print(f\"{topistop / len(files)}\")\n",
    "        for job in jobs:\n",
    "            top_og = Counter()\n",
    "            top_gpt = Counter()\n",
    "            c = 0\n",
    "            for fn in files:\n",
    "                records = json.load(open(fn))\n",
    "                sentence = records['choices'][0]['message']['content'].lower()\n",
    "                context = records['context']\n",
    "                _job = context['job']\n",
    "                real_order = context['default_order']\n",
    "                real_order = [_.lower() for _ in real_order]\n",
    "                demo_order = context['demo_order']\n",
    "                \n",
    "                name2len = {}\n",
    "                for name in real_order:\n",
    "                    name2len[name] = len(sentence.split(name)[0])\n",
    "                name2len = dict(sorted(name2len.items(), key=lambda item: item[1]))\n",
    "                gpt_order = list(name2len.keys())\n",
    "            \n",
    "                name2race = dict(zip(real_order, demo_order))\n",
    "                gpt_race_order = [\n",
    "                    name2race.get(_) for _ in gpt_order\n",
    "                ]\n",
    "               \n",
    "                if _job == job:\n",
    "                    top_og.update(demo_order[:N_top])\n",
    "                    top_gpt.update(gpt_race_order[:N_top])\n",
    "                    c += 1 \n",
    "                \n",
    "            # print \n",
    "            print(job)\n",
    "            df = pd.DataFrame(top_gpt.most_common(), columns=['demo', 'top'])\n",
    "            df_og = pd.DataFrame(top_og.most_common(), columns=['demo', 'top_og'])            \n",
    "            df = df.merge(df_og, on='demo')\n",
    "\n",
    "            df['selection_rate'] = df['top'] / c\n",
    "            df['disparate_impact_ratio'] = df['selection_rate'] / df['selection_rate'].max()\n",
    "            ## comment out, but useful for re-balancing data in notebook 3-rank-resumes.ipynb\n",
    "            # df['to_collect'] = 125 - df['top_og']\n",
    "\n",
    "            display(HTML(df.sort_values(by='disparate_impact_ratio', ascending=True).reset_index(drop=1).to_html()))\n",
    "            df['job'] = job\n",
    "            df['model'] = model\n",
    "            df['rank'] = N_top\n",
    "\n",
    "            \n",
    "            data.extend(df.to_dict(orient='records'))"
   ]
  },
  {
   "cell_type": "markdown",
   "id": "4ff3b602-8a5f-42f3-985b-984bb2217332",
   "metadata": {},
   "source": [
    "Here are the columns in the data:\n",
    "- `demo` is the demographic\n",
    "- `top` is the number of times that a group was ranked the most-qualified candidate.\n",
    "- `top_og` is how often the group was shown to GPT as the first name in the list of resumes.\n",
    "- `selection_rate` is the frequency in which the group was ranked in the top.\n",
    "- `disparate_impact_ratio` is the ratio between the best-performing group's `selection_rate` and the give group's `selection_rate`."
   ]
  },
  {
   "cell_type": "code",
   "execution_count": 78,
   "id": "3f2fc52e-6019-4a15-8cbd-0de2e9fde6c9",
   "metadata": {},
   "outputs": [],
   "source": [
    "results = pd.DataFrame(data)"
   ]
  },
  {
   "cell_type": "code",
   "execution_count": 79,
   "id": "ab7c9367-05fb-4100-9e61-99ff5036741e",
   "metadata": {},
   "outputs": [],
   "source": [
    "results.to_csv(fn_ranking, index=False)"
   ]
  },
  {
   "cell_type": "markdown",
   "id": "bfc415dc-8e31-40b9-8f7a-bb05a80bc99e",
   "metadata": {},
   "source": [
    "## Data for visualization\n",
    "\n",
    "Producing granular data for Leonardo to make magic charts."
   ]
  },
  {
   "cell_type": "code",
   "execution_count": 80,
   "id": "a42e913a-0066-4612-867d-93bf03a8c691",
   "metadata": {},
   "outputs": [],
   "source": [
    "data_clean = []\n",
    "for model in ['gpt-4o']:\n",
    "    files = model2files[model]\n",
    "    for fn in files:\n",
    "        records = json.load(open(fn))\n",
    "        sentence = records['choices'][0]['message']['content'].lower()\n",
    "        context = records['context']\n",
    "        _job = context['job']\n",
    "        real_order = context['default_order']\n",
    "        real_order = [_.lower() for _ in real_order]\n",
    "        demo_order = context['demo_order']\n",
    "        \n",
    "        name2len = {}\n",
    "        for name in real_order:\n",
    "            name2len[name] = len(sentence.split(name)[0])\n",
    "        name2len = dict(sorted(name2len.items(), key=lambda item: item[1]))\n",
    "        gpt_order = list(name2len.keys())\n",
    "    \n",
    "        name2race = dict(zip(real_order, demo_order))\n",
    "        gpt_race_order = [\n",
    "            name2race.get(_) for _ in gpt_order\n",
    "        ]\n",
    "        data_clean.append({\n",
    "            \"job\" : _job,\n",
    "            \"default_order_names\" : real_order,\n",
    "            \"default_order_demo\" : demo_order, \n",
    "            \"gpt_ranking_names\": gpt_order,\n",
    "            \"gpt_ranking_demo\": gpt_race_order,\n",
    "            \"name2demo\": name2race,\n",
    "            'model': model,\n",
    "            'fn' : fn\n",
    "        })"
   ]
  },
  {
   "cell_type": "code",
   "execution_count": 81,
   "id": "7cab6d1e-dede-4fe8-bdae-8eb4cecf4fbc",
   "metadata": {},
   "outputs": [],
   "source": [
    "pd.DataFrame(data_clean).to_csv(fn_ranking_graphics)"
   ]
  },
  {
   "cell_type": "markdown",
   "id": "e2cc5daf-6788-450e-9760-3120e6bc6562",
   "metadata": {},
   "source": [
    "Making aggregate top and bottom-ranked for Minh-Anh's Businessweek chart."
   ]
  },
  {
   "cell_type": "code",
   "execution_count": 82,
   "id": "ad8069fc-e990-4c6e-a814-e33fe213c178",
   "metadata": {},
   "outputs": [
    {
     "name": "stdout",
     "output_type": "stream",
     "text": [
      "top 0 gpt-4o\n",
      "HR specialist\n"
     ]
    },
    {
     "data": {
      "text/html": [
       "<table border=\"1\" class=\"dataframe\">\n",
       "  <thead>\n",
       "    <tr style=\"text-align: right;\">\n",
       "      <th></th>\n",
       "      <th>demo</th>\n",
       "      <th>top</th>\n",
       "      <th>top_og</th>\n",
       "      <th>selection_rate</th>\n",
       "      <th>disparate_impact_ratio</th>\n",
       "    </tr>\n",
       "  </thead>\n",
       "  <tbody>\n",
       "    <tr>\n",
       "      <th>0</th>\n",
       "      <td>Brahmin_W</td>\n",
       "      <td>48</td>\n",
       "      <td>51</td>\n",
       "      <td>0.48</td>\n",
       "      <td>0.923077</td>\n",
       "    </tr>\n",
       "    <tr>\n",
       "      <th>1</th>\n",
       "      <td>Dalit_W</td>\n",
       "      <td>52</td>\n",
       "      <td>49</td>\n",
       "      <td>0.52</td>\n",
       "      <td>1.000000</td>\n",
       "    </tr>\n",
       "  </tbody>\n",
       "</table>"
      ],
      "text/plain": [
       "<IPython.core.display.HTML object>"
      ]
     },
     "metadata": {},
     "output_type": "display_data"
    },
    {
     "name": "stdout",
     "output_type": "stream",
     "text": [
      "software engineer\n"
     ]
    },
    {
     "data": {
      "text/html": [
       "<table border=\"1\" class=\"dataframe\">\n",
       "  <thead>\n",
       "    <tr style=\"text-align: right;\">\n",
       "      <th></th>\n",
       "      <th>demo</th>\n",
       "      <th>top</th>\n",
       "      <th>top_og</th>\n",
       "      <th>selection_rate</th>\n",
       "      <th>disparate_impact_ratio</th>\n",
       "    </tr>\n",
       "  </thead>\n",
       "  <tbody>\n",
       "    <tr>\n",
       "      <th>0</th>\n",
       "      <td>Dalit_W</td>\n",
       "      <td>491</td>\n",
       "      <td>494</td>\n",
       "      <td>0.491</td>\n",
       "      <td>0.964637</td>\n",
       "    </tr>\n",
       "    <tr>\n",
       "      <th>1</th>\n",
       "      <td>Brahmin_W</td>\n",
       "      <td>509</td>\n",
       "      <td>506</td>\n",
       "      <td>0.509</td>\n",
       "      <td>1.000000</td>\n",
       "    </tr>\n",
       "  </tbody>\n",
       "</table>"
      ],
      "text/plain": [
       "<IPython.core.display.HTML object>"
      ]
     },
     "metadata": {},
     "output_type": "display_data"
    },
    {
     "name": "stdout",
     "output_type": "stream",
     "text": [
      "retail\n"
     ]
    },
    {
     "data": {
      "text/html": [
       "<table border=\"1\" class=\"dataframe\">\n",
       "  <thead>\n",
       "    <tr style=\"text-align: right;\">\n",
       "      <th></th>\n",
       "      <th>demo</th>\n",
       "      <th>top</th>\n",
       "      <th>top_og</th>\n",
       "      <th>selection_rate</th>\n",
       "      <th>disparate_impact_ratio</th>\n",
       "    </tr>\n",
       "  </thead>\n",
       "  <tbody>\n",
       "    <tr>\n",
       "      <th>0</th>\n",
       "      <td>Brahmin_W</td>\n",
       "      <td>50</td>\n",
       "      <td>51</td>\n",
       "      <td>0.5</td>\n",
       "      <td>1.0</td>\n",
       "    </tr>\n",
       "    <tr>\n",
       "      <th>1</th>\n",
       "      <td>Dalit_W</td>\n",
       "      <td>50</td>\n",
       "      <td>49</td>\n",
       "      <td>0.5</td>\n",
       "      <td>1.0</td>\n",
       "    </tr>\n",
       "  </tbody>\n",
       "</table>"
      ],
      "text/plain": [
       "<IPython.core.display.HTML object>"
      ]
     },
     "metadata": {},
     "output_type": "display_data"
    },
    {
     "name": "stdout",
     "output_type": "stream",
     "text": [
      "financial analyst\n"
     ]
    },
    {
     "data": {
      "text/html": [
       "<table border=\"1\" class=\"dataframe\">\n",
       "  <thead>\n",
       "    <tr style=\"text-align: right;\">\n",
       "      <th></th>\n",
       "      <th>demo</th>\n",
       "      <th>top</th>\n",
       "      <th>top_og</th>\n",
       "      <th>selection_rate</th>\n",
       "      <th>disparate_impact_ratio</th>\n",
       "    </tr>\n",
       "  </thead>\n",
       "  <tbody>\n",
       "    <tr>\n",
       "      <th>0</th>\n",
       "      <td>Dalit_W</td>\n",
       "      <td>49</td>\n",
       "      <td>49</td>\n",
       "      <td>0.49</td>\n",
       "      <td>0.960784</td>\n",
       "    </tr>\n",
       "    <tr>\n",
       "      <th>1</th>\n",
       "      <td>Brahmin_W</td>\n",
       "      <td>51</td>\n",
       "      <td>51</td>\n",
       "      <td>0.51</td>\n",
       "      <td>1.000000</td>\n",
       "    </tr>\n",
       "  </tbody>\n",
       "</table>"
      ],
      "text/plain": [
       "<IPython.core.display.HTML object>"
      ]
     },
     "metadata": {},
     "output_type": "display_data"
    },
    {
     "name": "stdout",
     "output_type": "stream",
     "text": [
      "top -1 gpt-4o\n",
      "HR specialist\n"
     ]
    },
    {
     "data": {
      "text/html": [
       "<table border=\"1\" class=\"dataframe\">\n",
       "  <thead>\n",
       "    <tr style=\"text-align: right;\">\n",
       "      <th></th>\n",
       "      <th>demo</th>\n",
       "      <th>top</th>\n",
       "      <th>top_og</th>\n",
       "      <th>selection_rate</th>\n",
       "      <th>disparate_impact_ratio</th>\n",
       "    </tr>\n",
       "  </thead>\n",
       "  <tbody>\n",
       "    <tr>\n",
       "      <th>0</th>\n",
       "      <td>Dalit_W</td>\n",
       "      <td>48</td>\n",
       "      <td>51</td>\n",
       "      <td>0.48</td>\n",
       "      <td>0.923077</td>\n",
       "    </tr>\n",
       "    <tr>\n",
       "      <th>1</th>\n",
       "      <td>Brahmin_W</td>\n",
       "      <td>52</td>\n",
       "      <td>49</td>\n",
       "      <td>0.52</td>\n",
       "      <td>1.000000</td>\n",
       "    </tr>\n",
       "  </tbody>\n",
       "</table>"
      ],
      "text/plain": [
       "<IPython.core.display.HTML object>"
      ]
     },
     "metadata": {},
     "output_type": "display_data"
    },
    {
     "name": "stdout",
     "output_type": "stream",
     "text": [
      "software engineer\n"
     ]
    },
    {
     "data": {
      "text/html": [
       "<table border=\"1\" class=\"dataframe\">\n",
       "  <thead>\n",
       "    <tr style=\"text-align: right;\">\n",
       "      <th></th>\n",
       "      <th>demo</th>\n",
       "      <th>top</th>\n",
       "      <th>top_og</th>\n",
       "      <th>selection_rate</th>\n",
       "      <th>disparate_impact_ratio</th>\n",
       "    </tr>\n",
       "  </thead>\n",
       "  <tbody>\n",
       "    <tr>\n",
       "      <th>0</th>\n",
       "      <td>Brahmin_W</td>\n",
       "      <td>491</td>\n",
       "      <td>494</td>\n",
       "      <td>0.491</td>\n",
       "      <td>0.964637</td>\n",
       "    </tr>\n",
       "    <tr>\n",
       "      <th>1</th>\n",
       "      <td>Dalit_W</td>\n",
       "      <td>509</td>\n",
       "      <td>506</td>\n",
       "      <td>0.509</td>\n",
       "      <td>1.000000</td>\n",
       "    </tr>\n",
       "  </tbody>\n",
       "</table>"
      ],
      "text/plain": [
       "<IPython.core.display.HTML object>"
      ]
     },
     "metadata": {},
     "output_type": "display_data"
    },
    {
     "name": "stdout",
     "output_type": "stream",
     "text": [
      "retail\n"
     ]
    },
    {
     "data": {
      "text/html": [
       "<table border=\"1\" class=\"dataframe\">\n",
       "  <thead>\n",
       "    <tr style=\"text-align: right;\">\n",
       "      <th></th>\n",
       "      <th>demo</th>\n",
       "      <th>top</th>\n",
       "      <th>top_og</th>\n",
       "      <th>selection_rate</th>\n",
       "      <th>disparate_impact_ratio</th>\n",
       "    </tr>\n",
       "  </thead>\n",
       "  <tbody>\n",
       "    <tr>\n",
       "      <th>0</th>\n",
       "      <td>Dalit_W</td>\n",
       "      <td>50</td>\n",
       "      <td>51</td>\n",
       "      <td>0.5</td>\n",
       "      <td>1.0</td>\n",
       "    </tr>\n",
       "    <tr>\n",
       "      <th>1</th>\n",
       "      <td>Brahmin_W</td>\n",
       "      <td>50</td>\n",
       "      <td>49</td>\n",
       "      <td>0.5</td>\n",
       "      <td>1.0</td>\n",
       "    </tr>\n",
       "  </tbody>\n",
       "</table>"
      ],
      "text/plain": [
       "<IPython.core.display.HTML object>"
      ]
     },
     "metadata": {},
     "output_type": "display_data"
    },
    {
     "name": "stdout",
     "output_type": "stream",
     "text": [
      "financial analyst\n"
     ]
    },
    {
     "data": {
      "text/html": [
       "<table border=\"1\" class=\"dataframe\">\n",
       "  <thead>\n",
       "    <tr style=\"text-align: right;\">\n",
       "      <th></th>\n",
       "      <th>demo</th>\n",
       "      <th>top</th>\n",
       "      <th>top_og</th>\n",
       "      <th>selection_rate</th>\n",
       "      <th>disparate_impact_ratio</th>\n",
       "    </tr>\n",
       "  </thead>\n",
       "  <tbody>\n",
       "    <tr>\n",
       "      <th>0</th>\n",
       "      <td>Brahmin_W</td>\n",
       "      <td>49</td>\n",
       "      <td>49</td>\n",
       "      <td>0.49</td>\n",
       "      <td>0.960784</td>\n",
       "    </tr>\n",
       "    <tr>\n",
       "      <th>1</th>\n",
       "      <td>Dalit_W</td>\n",
       "      <td>51</td>\n",
       "      <td>51</td>\n",
       "      <td>0.51</td>\n",
       "      <td>1.000000</td>\n",
       "    </tr>\n",
       "  </tbody>\n",
       "</table>"
      ],
      "text/plain": [
       "<IPython.core.display.HTML object>"
      ]
     },
     "metadata": {},
     "output_type": "display_data"
    }
   ],
   "source": [
    "data = []\n",
    "for model in ['gpt-4o']:\n",
    "    for N_top in [0, -1]:\n",
    "        topistop = 0\n",
    "        files = model2files[model]\n",
    "        print(f\"top {N_top} {model}\")\n",
    "        _c = 0\n",
    "        _top_og = Counter()\n",
    "        _top_gpt = Counter()\n",
    "        for job in jobs:\n",
    "            top_og = Counter()\n",
    "            top_gpt = Counter()\n",
    "            c = 0\n",
    "            for fn in files:\n",
    "                records = json.load(open(fn))\n",
    "                sentence = records['choices'][0]['message']['content'].lower()\n",
    "                context = records['context']\n",
    "                _job = context['job']\n",
    "                real_order = context['default_order']\n",
    "                real_order = [_.lower() for _ in real_order]\n",
    "                demo_order = context['demo_order']\n",
    "                \n",
    "                name2len = {}\n",
    "                for name in real_order:\n",
    "                    name2len[name] = len(sentence.split(name)[0])\n",
    "                name2len = dict(sorted(name2len.items(), key=lambda item: item[1]))\n",
    "                gpt_order = list(name2len.keys())\n",
    "            \n",
    "                name2race = dict(zip(real_order, demo_order))\n",
    "                gpt_race_order = [\n",
    "                    name2race.get(_) for _ in gpt_order\n",
    "                ]\n",
    "               \n",
    "                if _job == job:\n",
    "                    top_og.update([demo_order[N_top]])\n",
    "                    top_gpt.update([gpt_race_order[N_top]])\n",
    "                    c += 1 \n",
    "                \n",
    "            # print \n",
    "            print(job)\n",
    "            df = pd.DataFrame(top_gpt.most_common(), columns=['demo', 'top'])\n",
    "            df_og = pd.DataFrame(top_og.most_common(), columns=['demo', 'top_og'])            \n",
    "            df = df.merge(df_og, on='demo')\n",
    "        \n",
    "            df['selection_rate'] = df['top'] / c\n",
    "            df['disparate_impact_ratio'] = df['selection_rate'] / df['selection_rate'].max()\n",
    "\n",
    "            display(HTML(df.sort_values(by='disparate_impact_ratio', ascending=True).reset_index(drop=1).to_html()))\n",
    "            df['job'] = job\n",
    "            df['model'] = model\n",
    "            df['rank'] = N_top\n",
    "    \n",
    "            data.extend(df.to_dict(orient='records'))"
   ]
  },
  {
   "cell_type": "code",
   "execution_count": 83,
   "id": "a188d6e9-bab3-4f45-a0b9-93c851211f8b",
   "metadata": {},
   "outputs": [],
   "source": [
    "df = pd.DataFrame(data)"
   ]
  },
  {
   "cell_type": "code",
   "execution_count": 84,
   "id": "43efd0ab-a48c-4758-a6d7-5c1670304cfc",
   "metadata": {},
   "outputs": [
    {
     "data": {
      "text/html": [
       "<div>\n",
       "<style scoped>\n",
       "    .dataframe tbody tr th:only-of-type {\n",
       "        vertical-align: middle;\n",
       "    }\n",
       "\n",
       "    .dataframe tbody tr th {\n",
       "        vertical-align: top;\n",
       "    }\n",
       "\n",
       "    .dataframe thead th {\n",
       "        text-align: right;\n",
       "    }\n",
       "</style>\n",
       "<table border=\"1\" class=\"dataframe\">\n",
       "  <thead>\n",
       "    <tr style=\"text-align: right;\">\n",
       "      <th></th>\n",
       "      <th>demo</th>\n",
       "      <th>top</th>\n",
       "      <th>top_og</th>\n",
       "      <th>selection_rate</th>\n",
       "      <th>disparate_impact_ratio</th>\n",
       "      <th>job</th>\n",
       "      <th>model</th>\n",
       "      <th>rank</th>\n",
       "    </tr>\n",
       "  </thead>\n",
       "  <tbody>\n",
       "    <tr>\n",
       "      <th>0</th>\n",
       "      <td>Dalit_W</td>\n",
       "      <td>52</td>\n",
       "      <td>49</td>\n",
       "      <td>0.52</td>\n",
       "      <td>1.000000</td>\n",
       "      <td>HR specialist</td>\n",
       "      <td>gpt-4o</td>\n",
       "      <td>0</td>\n",
       "    </tr>\n",
       "    <tr>\n",
       "      <th>1</th>\n",
       "      <td>Brahmin_W</td>\n",
       "      <td>48</td>\n",
       "      <td>51</td>\n",
       "      <td>0.48</td>\n",
       "      <td>0.923077</td>\n",
       "      <td>HR specialist</td>\n",
       "      <td>gpt-4o</td>\n",
       "      <td>0</td>\n",
       "    </tr>\n",
       "  </tbody>\n",
       "</table>\n",
       "</div>"
      ],
      "text/plain": [
       "        demo  top  top_og  selection_rate  disparate_impact_ratio  \\\n",
       "0    Dalit_W   52      49            0.52                1.000000   \n",
       "1  Brahmin_W   48      51            0.48                0.923077   \n",
       "\n",
       "             job   model  rank  \n",
       "0  HR specialist  gpt-4o     0  \n",
       "1  HR specialist  gpt-4o     0  "
      ]
     },
     "execution_count": 84,
     "metadata": {},
     "output_type": "execute_result"
    }
   ],
   "source": [
    "df.head(2)"
   ]
  },
  {
   "cell_type": "code",
   "execution_count": 85,
   "id": "f0cd1fa8-4e6a-42cc-92ab-65bbdba70526",
   "metadata": {},
   "outputs": [],
   "source": [
    "df_merged = df[df['rank'] == 0].merge(\n",
    "    df[df['rank'] == -1][['demo', 'selection_rate', 'job', 'model']],\n",
    "    on=['demo', 'job', 'model'],\n",
    "    suffixes=['', '_bottom']\n",
    ")"
   ]
  },
  {
   "cell_type": "code",
   "execution_count": 86,
   "id": "2a07c3ec-ce1d-4fbb-b2ed-5c8ee15b4221",
   "metadata": {},
   "outputs": [],
   "source": [
    "df_merged['race/ethnicity'] = df_merged['demo'].str.split('_').str.get(0)\n",
    "df_merged['sex'] = df_merged['demo'].str.split('_').str.get(1)"
   ]
  },
  {
   "cell_type": "code",
   "execution_count": 87,
   "id": "d8334da1-6571-42b8-ae23-67fc6a299c12",
   "metadata": {},
   "outputs": [],
   "source": [
    "df_merged = df_merged[['job','race/ethnicity', 'sex', \n",
    "                       'selection_rate', 'disparate_impact_ratio', 'selection_rate_bottom', 'model']]"
   ]
  },
  {
   "cell_type": "code",
   "execution_count": 88,
   "id": "1c0f98fd-420b-4ba9-ab5a-a50450ffb447",
   "metadata": {},
   "outputs": [],
   "source": [
    "df_merged.columns = ['job', 'race/ethnicity', 'sex', 'top_ranked_perc', 'top_impact_ratio',\n",
    "       'bottom_ranked_perc', 'model']"
   ]
  },
  {
   "cell_type": "code",
   "execution_count": 89,
   "id": "a56bc0f7-6151-4147-83b2-22186ae51133",
   "metadata": {},
   "outputs": [],
   "source": [
    "df_merged.to_csv(f'../data/output/{suffix}graphics_bw_performance_ranking.csv', index=False)"
   ]
  }
 ],
 "metadata": {
  "kernelspec": {
   "display_name": ".venv",
   "language": "python",
   "name": "python3"
  },
  "language_info": {
   "codemirror_mode": {
    "name": "ipython",
    "version": 3
   },
   "file_extension": ".py",
   "mimetype": "text/x-python",
   "name": "python",
   "nbconvert_exporter": "python",
   "pygments_lexer": "ipython3",
   "version": "3.12.4"
  }
 },
 "nbformat": 4,
 "nbformat_minor": 5
}
